{
 "cells": [
  {
   "cell_type": "code",
   "execution_count": 1,
   "metadata": {
    "collapsed": true
   },
   "outputs": [],
   "source": [
    "%matplotlib inline\n",
    "import numpy as np\n",
    "import matplotlib.pyplot as plt\n",
    "\n"
   ]
  },
  {
   "cell_type": "code",
   "execution_count": 3,
   "metadata": {
    "collapsed": false
   },
   "outputs": [],
   "source": [
    "class AdaptiveNetwork(object):\n",
    "    def __init__(self, L = 16):\n",
    "        Len = L\n",
    "        self.threshold = 1\n",
    "        self.weights = np.random.rand(L, L) \n",
    "        self.node_values = np.zeros([L,L],dtype = np.float32)\n",
    "        self.node_states = np.zeros([L,L],dtype = np.int32)\n",
    "        self.success = False\n",
    "    def normalize_weights(self):\n",
    "        self.weights = self.weights/np.sum(self.weights)\n",
    "        \n",
    "    def set_IO_nodes(self, signal = 'red'):\n",
    "        if signal = 'red':\n",
    "            self.output_nodes = [[Len-1,9],[Len-1,14]]\n",
    "            np.random.seed(31) \n",
    "        elif signal = 'green':\n",
    "            self.output_nodes = [[Len-1,6],[Len-1,11]]\n",
    "            np.random.seed(32)\n",
    "            \n",
    "        x, y = np.mgrid([0:L-4:1j, 0:L:1j])\n",
    "        xx = np.random.choice(x, Len)\n",
    "        yy = np.random.choice(y, Len)\n",
    "        self.input_nodes = np.array(list(zip(xx, yy)))\n",
    "            \n",
    "    def node_nns(i,j):\n",
    "        u = [i-1,j] if i > 0 else []\n",
    "        d = [i+1,j] \n",
    "        l = [i,j-1]\n",
    "        r = [i,j+1]\n",
    "        nns = [u,d,l,r] \n",
    "        return nns\n",
    "    def set_sensory_signal(self):\n",
    "        for i, j in self.input_nodes:\n",
    "            self.node_values[i,j] = \n",
    "            \n",
    "    def update_values(self):\n",
    "        \n",
    "        return next_values\n",
    "    \n",
    "    def update_weights(Js = self.weights, states = self.node_states, T = self.threshold):\n",
    "        next_values = self.next_values()\n",
    "        next_states = np.where(next_values > T, 1, 0)\n",
    "        Js += ( r*Js*(1-Js) + eta*np.random.rand(L,L) )*states\n",
    "    def run_one_step(self):\n",
    "        if self.success:\n",
    "            "
   ]
  },
  {
   "cell_type": "code",
   "execution_count": 5,
   "metadata": {
    "collapsed": true
   },
   "outputs": [],
   "source": [
    "u = []\n",
    "a = [1,2]\n",
    "a.append(u)"
   ]
  },
  {
   "cell_type": "code",
   "execution_count": 6,
   "metadata": {
    "collapsed": false
   },
   "outputs": [
    {
     "data": {
      "text/plain": [
       "[1, 2, []]"
      ]
     },
     "execution_count": 6,
     "metadata": {},
     "output_type": "execute_result"
    }
   ],
   "source": [
    "a"
   ]
  },
  {
   "cell_type": "code",
   "execution_count": 7,
   "metadata": {
    "collapsed": false
   },
   "outputs": [
    {
     "ename": "TypeError",
     "evalue": "unsupported operand type(s) for +=: 'int' and 'list'",
     "output_type": "error",
     "traceback": [
      "\u001b[0;31m---------------------------------------------------------------------------\u001b[0m",
      "\u001b[0;31mTypeError\u001b[0m                                 Traceback (most recent call last)",
      "\u001b[0;32m<ipython-input-7-42cb64febc58>\u001b[0m in \u001b[0;36m<module>\u001b[0;34m()\u001b[0m\n\u001b[1;32m      1\u001b[0m \u001b[0msum\u001b[0m \u001b[0;34m=\u001b[0m \u001b[0;36m0\u001b[0m\u001b[0;34m\u001b[0m\u001b[0m\n\u001b[1;32m      2\u001b[0m \u001b[0;32mfor\u001b[0m \u001b[0maa\u001b[0m \u001b[0;32min\u001b[0m \u001b[0ma\u001b[0m\u001b[0;34m:\u001b[0m\u001b[0;34m\u001b[0m\u001b[0m\n\u001b[0;32m----> 3\u001b[0;31m     \u001b[0msum\u001b[0m \u001b[0;34m+=\u001b[0m \u001b[0maa\u001b[0m\u001b[0;34m\u001b[0m\u001b[0m\n\u001b[0m",
      "\u001b[0;31mTypeError\u001b[0m: unsupported operand type(s) for +=: 'int' and 'list'"
     ]
    }
   ],
   "source": [
    "sum = 0\n",
    "for aa in a:\n",
    "    sum += aa"
   ]
  },
  {
   "cell_type": "code",
   "execution_count": null,
   "metadata": {
    "collapsed": true
   },
   "outputs": [],
   "source": []
  }
 ],
 "metadata": {
  "kernelspec": {
   "display_name": "Python 3",
   "language": "python",
   "name": "python3"
  },
  "language_info": {
   "codemirror_mode": {
    "name": "ipython",
    "version": 3
   },
   "file_extension": ".py",
   "mimetype": "text/x-python",
   "name": "python",
   "nbconvert_exporter": "python",
   "pygments_lexer": "ipython3",
   "version": "3.6.0"
  }
 },
 "nbformat": 4,
 "nbformat_minor": 2
}
